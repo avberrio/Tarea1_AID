{
 "cells": [
  {
   "cell_type": "markdown",
   "metadata": {},
   "source": [
    "<center>\n",
    "    <h1> INF390 - Análisis Inteligente de Datos </h1>\n",
    "    <h1> Tarea 1 - Visualización y Análisis Descriptivo de Datos con Python </h1>\n",
    "    <h3>\n",
    "        <table style=\"border: 0px;\">\n",
    "            <tr style=\"border: 0px;\">\n",
    "                <td style=\"text-align: center; border: 0px;\"> Aldo Berrios Valenzuela </td>\n",
    "                <td style=\"text-align: center; border: 0px; padding-right: 110px;\"> </td>\n",
    "                <td style=\"text-align: center; border: 0px;\"> Lukas Zamora Jabre </td>\n",
    "            </tr>\n",
    "            <tr style=\"border: 0px;\">\n",
    "                <td style=\"text-align: center; border: 0px;\"> 201304018-7 </td>\n",
    "                <td style=\"text-align: center; border: 0px; padding-right: 110px;\"> </td>\n",
    "                <td style=\"text-align: center; border: 0px;\"> 201430047-6 </td>\n",
    "            </tr>\n",
    "            <tr style=\"border: 0px;\">\n",
    "                <td style=\"text-align: center; font-size: 14px; border: 0px;\"> `aldo.berrios.13@sansano.usm.cl` </td>\n",
    "                <td style=\"text-align: center; border: 0px; padding-right: 110px;\"> </td>\n",
    "                <td style=\"text-align: center; font-size: 14px; border: 0px;\"> `lukas.zamora.14@sansano.usm.cl` </td>\n",
    "            </tr>\n",
    "        </table>\n",
    "    </h3> \n",
    "    <h4> Valparaíso, Viernes 29 de Octubre de 2017 </h4>\n",
    "</center>"
   ]
  },
  {
   "cell_type": "markdown",
   "metadata": {
    "collapsed": true
   },
   "source": [
    "# 1. &nbsp;&nbsp;&nbsp;&nbsp; Preliminares"
   ]
  },
  {
   "cell_type": "markdown",
   "metadata": {},
   "source": [
    "Para el desarrollo de esta tarea usaremos el dataset que se encuentra en https://archive.ics.uci.edu/ml/datasets/Census+Income. Luego, importamos las librerías que usaremos durante el desarrollo de la tarea:"
   ]
  },
  {
   "cell_type": "code",
   "execution_count": 30,
   "metadata": {
    "collapsed": true
   },
   "outputs": [],
   "source": [
    "import numpy as np\n",
    "import pandas as pd\n",
    "import scipy.stats as ss\n",
    "import matplotlib.pyplot as plt\n",
    "import seaborn as sns\n",
    "from sklearn.decomposition import PCA\n",
    "plt.style.use('default')\n",
    "%matplotlib inline"
   ]
  },
  {
   "cell_type": "markdown",
   "metadata": {},
   "source": [
    "A continuación, cargamos el dataset con pandas:"
   ]
  },
  {
   "cell_type": "code",
   "execution_count": 2,
   "metadata": {
    "collapsed": false,
    "scrolled": false
   },
   "outputs": [
    {
     "data": {
      "text/html": [
       "<div>\n",
       "<table border=\"1\" class=\"dataframe\">\n",
       "  <thead>\n",
       "    <tr style=\"text-align: right;\">\n",
       "      <th></th>\n",
       "      <th>Age</th>\n",
       "      <th>Workclass</th>\n",
       "      <th>Fnlwgt</th>\n",
       "      <th>Education</th>\n",
       "      <th>Education_Num</th>\n",
       "      <th>Marital Status</th>\n",
       "      <th>Occupation</th>\n",
       "      <th>Relationship</th>\n",
       "      <th>Race</th>\n",
       "      <th>Sex</th>\n",
       "      <th>Capital_Gain</th>\n",
       "      <th>Capital_loss</th>\n",
       "      <th>Hours_per_week</th>\n",
       "      <th>Native_country</th>\n",
       "      <th>Result</th>\n",
       "    </tr>\n",
       "  </thead>\n",
       "  <tbody>\n",
       "    <tr>\n",
       "      <th>0</th>\n",
       "      <td>39</td>\n",
       "      <td>State-gov</td>\n",
       "      <td>77516</td>\n",
       "      <td>Bachelors</td>\n",
       "      <td>13</td>\n",
       "      <td>Never-married</td>\n",
       "      <td>Adm-clerical</td>\n",
       "      <td>Not-in-family</td>\n",
       "      <td>White</td>\n",
       "      <td>Male</td>\n",
       "      <td>2174</td>\n",
       "      <td>0</td>\n",
       "      <td>40</td>\n",
       "      <td>United-States</td>\n",
       "      <td>&lt;=50K</td>\n",
       "    </tr>\n",
       "    <tr>\n",
       "      <th>1</th>\n",
       "      <td>50</td>\n",
       "      <td>Self-emp-not-inc</td>\n",
       "      <td>83311</td>\n",
       "      <td>Bachelors</td>\n",
       "      <td>13</td>\n",
       "      <td>Married-civ-spouse</td>\n",
       "      <td>Exec-managerial</td>\n",
       "      <td>Husband</td>\n",
       "      <td>White</td>\n",
       "      <td>Male</td>\n",
       "      <td>0</td>\n",
       "      <td>0</td>\n",
       "      <td>13</td>\n",
       "      <td>United-States</td>\n",
       "      <td>&lt;=50K</td>\n",
       "    </tr>\n",
       "    <tr>\n",
       "      <th>2</th>\n",
       "      <td>38</td>\n",
       "      <td>Private</td>\n",
       "      <td>215646</td>\n",
       "      <td>HS-grad</td>\n",
       "      <td>9</td>\n",
       "      <td>Divorced</td>\n",
       "      <td>Handlers-cleaners</td>\n",
       "      <td>Not-in-family</td>\n",
       "      <td>White</td>\n",
       "      <td>Male</td>\n",
       "      <td>0</td>\n",
       "      <td>0</td>\n",
       "      <td>40</td>\n",
       "      <td>United-States</td>\n",
       "      <td>&lt;=50K</td>\n",
       "    </tr>\n",
       "    <tr>\n",
       "      <th>3</th>\n",
       "      <td>53</td>\n",
       "      <td>Private</td>\n",
       "      <td>234721</td>\n",
       "      <td>11th</td>\n",
       "      <td>7</td>\n",
       "      <td>Married-civ-spouse</td>\n",
       "      <td>Handlers-cleaners</td>\n",
       "      <td>Husband</td>\n",
       "      <td>Black</td>\n",
       "      <td>Male</td>\n",
       "      <td>0</td>\n",
       "      <td>0</td>\n",
       "      <td>40</td>\n",
       "      <td>United-States</td>\n",
       "      <td>&lt;=50K</td>\n",
       "    </tr>\n",
       "    <tr>\n",
       "      <th>4</th>\n",
       "      <td>28</td>\n",
       "      <td>Private</td>\n",
       "      <td>338409</td>\n",
       "      <td>Bachelors</td>\n",
       "      <td>13</td>\n",
       "      <td>Married-civ-spouse</td>\n",
       "      <td>Prof-specialty</td>\n",
       "      <td>Wife</td>\n",
       "      <td>Black</td>\n",
       "      <td>Female</td>\n",
       "      <td>0</td>\n",
       "      <td>0</td>\n",
       "      <td>40</td>\n",
       "      <td>Cuba</td>\n",
       "      <td>&lt;=50K</td>\n",
       "    </tr>\n",
       "  </tbody>\n",
       "</table>\n",
       "</div>"
      ],
      "text/plain": [
       "   Age          Workclass  Fnlwgt   Education  Education_Num  \\\n",
       "0   39          State-gov   77516   Bachelors             13   \n",
       "1   50   Self-emp-not-inc   83311   Bachelors             13   \n",
       "2   38            Private  215646     HS-grad              9   \n",
       "3   53            Private  234721        11th              7   \n",
       "4   28            Private  338409   Bachelors             13   \n",
       "\n",
       "        Marital Status          Occupation    Relationship    Race      Sex  \\\n",
       "0        Never-married        Adm-clerical   Not-in-family   White     Male   \n",
       "1   Married-civ-spouse     Exec-managerial         Husband   White     Male   \n",
       "2             Divorced   Handlers-cleaners   Not-in-family   White     Male   \n",
       "3   Married-civ-spouse   Handlers-cleaners         Husband   Black     Male   \n",
       "4   Married-civ-spouse      Prof-specialty            Wife   Black   Female   \n",
       "\n",
       "   Capital_Gain  Capital_loss  Hours_per_week  Native_country  Result  \n",
       "0          2174             0              40   United-States   <=50K  \n",
       "1             0             0              13   United-States   <=50K  \n",
       "2             0             0              40   United-States   <=50K  \n",
       "3             0             0              40   United-States   <=50K  \n",
       "4             0             0              40            Cuba   <=50K  "
      ]
     },
     "execution_count": 2,
     "metadata": {},
     "output_type": "execute_result"
    }
   ],
   "source": [
    "df = pd.DataFrame.from_csv('census_income_dataset.csv')\n",
    "df = df.reset_index()\n",
    "df = df.rename(columns={'Capital-gain':'Capital_Gain',\n",
    "                                                  'Education-Num':'Education_Num',\n",
    "                                                 'Capital-loss': 'Capital_loss',\n",
    "                                                 'hours-per-week': 'Hours_per_week',\n",
    "                                                 'Nartive-country': 'Native_country'})\n",
    "df.head()\n"
   ]
  },
  {
   "cell_type": "markdown",
   "metadata": {},
   "source": [
    "# 2. &nbsp;&nbsp;&nbsp;&nbsp; Desarrollo de Preguntas"
   ]
  },
  {
   "cell_type": "markdown",
   "metadata": {},
   "source": [
    "## 2.1. &nbsp;&nbsp;&nbsp; Estudio de Estadística Descriptiva a 2 variables"
   ]
  },
  {
   "cell_type": "markdown",
   "metadata": {},
   "source": [
    "Para realizar el estudio de estadística descriptiva seleccionaremos dos variables de nuestro dataset. Si bien, no nos imponen un criterio de seleccion de variables numéricas, nosotros elegiremos aquellas que estén mejor relacionadas. Para ello revisaremos la matríz de correlaciones:"
   ]
  },
  {
   "cell_type": "code",
   "execution_count": 3,
   "metadata": {
    "collapsed": false
   },
   "outputs": [
    {
     "data": {
      "text/html": [
       "<div>\n",
       "<table border=\"1\" class=\"dataframe\">\n",
       "  <thead>\n",
       "    <tr style=\"text-align: right;\">\n",
       "      <th></th>\n",
       "      <th>Age</th>\n",
       "      <th>Fnlwgt</th>\n",
       "      <th>Education_Num</th>\n",
       "      <th>Capital_Gain</th>\n",
       "      <th>Capital_loss</th>\n",
       "      <th>Hours_per_week</th>\n",
       "    </tr>\n",
       "  </thead>\n",
       "  <tbody>\n",
       "    <tr>\n",
       "      <th>Age</th>\n",
       "      <td>1.000000</td>\n",
       "      <td>-0.076646</td>\n",
       "      <td>0.036527</td>\n",
       "      <td>0.077674</td>\n",
       "      <td>0.057775</td>\n",
       "      <td>0.068756</td>\n",
       "    </tr>\n",
       "    <tr>\n",
       "      <th>Fnlwgt</th>\n",
       "      <td>-0.076646</td>\n",
       "      <td>1.000000</td>\n",
       "      <td>-0.043195</td>\n",
       "      <td>0.000432</td>\n",
       "      <td>-0.010252</td>\n",
       "      <td>-0.018768</td>\n",
       "    </tr>\n",
       "    <tr>\n",
       "      <th>Education_Num</th>\n",
       "      <td>0.036527</td>\n",
       "      <td>-0.043195</td>\n",
       "      <td>1.000000</td>\n",
       "      <td>0.122630</td>\n",
       "      <td>0.079923</td>\n",
       "      <td>0.148123</td>\n",
       "    </tr>\n",
       "    <tr>\n",
       "      <th>Capital_Gain</th>\n",
       "      <td>0.077674</td>\n",
       "      <td>0.000432</td>\n",
       "      <td>0.122630</td>\n",
       "      <td>1.000000</td>\n",
       "      <td>-0.031615</td>\n",
       "      <td>0.078409</td>\n",
       "    </tr>\n",
       "    <tr>\n",
       "      <th>Capital_loss</th>\n",
       "      <td>0.057775</td>\n",
       "      <td>-0.010252</td>\n",
       "      <td>0.079923</td>\n",
       "      <td>-0.031615</td>\n",
       "      <td>1.000000</td>\n",
       "      <td>0.054256</td>\n",
       "    </tr>\n",
       "    <tr>\n",
       "      <th>Hours_per_week</th>\n",
       "      <td>0.068756</td>\n",
       "      <td>-0.018768</td>\n",
       "      <td>0.148123</td>\n",
       "      <td>0.078409</td>\n",
       "      <td>0.054256</td>\n",
       "      <td>1.000000</td>\n",
       "    </tr>\n",
       "  </tbody>\n",
       "</table>\n",
       "</div>"
      ],
      "text/plain": [
       "                     Age    Fnlwgt  Education_Num  Capital_Gain  Capital_loss  \\\n",
       "Age             1.000000 -0.076646       0.036527      0.077674      0.057775   \n",
       "Fnlwgt         -0.076646  1.000000      -0.043195      0.000432     -0.010252   \n",
       "Education_Num   0.036527 -0.043195       1.000000      0.122630      0.079923   \n",
       "Capital_Gain    0.077674  0.000432       0.122630      1.000000     -0.031615   \n",
       "Capital_loss    0.057775 -0.010252       0.079923     -0.031615      1.000000   \n",
       "Hours_per_week  0.068756 -0.018768       0.148123      0.078409      0.054256   \n",
       "\n",
       "                Hours_per_week  \n",
       "Age                   0.068756  \n",
       "Fnlwgt               -0.018768  \n",
       "Education_Num         0.148123  \n",
       "Capital_Gain          0.078409  \n",
       "Capital_loss          0.054256  \n",
       "Hours_per_week        1.000000  "
      ]
     },
     "execution_count": 3,
     "metadata": {},
     "output_type": "execute_result"
    }
   ],
   "source": [
    "df.corr()"
   ]
  },
  {
   "cell_type": "markdown",
   "metadata": {},
   "source": [
    "Como podemos observar, no existe mucha relación entre las variables, así que elegiremos aquellas que tienen mayor correlación en comparación con el resto. Es por ello, que escogeremos *Capital_Gain* y *Education_Num* para hacer el análisis (*Education_Num* y *Hours_per_week* tienen una mayor correlación, pero queremos hacer nuestro análisis en base a esas dos variables)."
   ]
  },
  {
   "cell_type": "markdown",
   "metadata": {},
   "source": [
    "### 2.1.1. &nbsp;&nbsp; Capital Gain"
   ]
  },
  {
   "cell_type": "markdown",
   "metadata": {},
   "source": [
    "Comenzamos analizando los principales estadísticos de la variable:"
   ]
  },
  {
   "cell_type": "code",
   "execution_count": 4,
   "metadata": {
    "collapsed": false
   },
   "outputs": [
    {
     "data": {
      "text/plain": [
       "count    32561.000000\n",
       "mean      1077.648844\n",
       "std       7385.292085\n",
       "min          0.000000\n",
       "25%          0.000000\n",
       "50%          0.000000\n",
       "75%          0.000000\n",
       "max      99999.000000\n",
       "Name: Capital_Gain, dtype: float64"
      ]
     },
     "execution_count": 4,
     "metadata": {},
     "output_type": "execute_result"
    }
   ],
   "source": [
    "df[\"Capital_Gain\"].describe()"
   ]
  },
  {
   "cell_type": "markdown",
   "metadata": {},
   "source": [
    "Analizando la información anterior notamos que al menos el 75% de los datos es cero, es por ello, que sin necesidad de graficar la distribución de los datos vemos que *Capital_Gain* está sesgada hacia la derecha, es decir, es una distribución asimétrica. Cuando lleguemos a la sección de los gráficos confirmaremos esta hipótesis."
   ]
  },
  {
   "cell_type": "markdown",
   "metadata": {},
   "source": [
    "Como podemos observar, el método `describe()` no nos entregó la moda, así que la calculamos:"
   ]
  },
  {
   "cell_type": "code",
   "execution_count": 5,
   "metadata": {
    "collapsed": false
   },
   "outputs": [
    {
     "data": {
      "text/plain": [
       "0    0\n",
       "dtype: int64"
      ]
     },
     "execution_count": 5,
     "metadata": {},
     "output_type": "execute_result"
    }
   ],
   "source": [
    "df['Capital_Gain'].mode()"
   ]
  },
  {
   "cell_type": "markdown",
   "metadata": {},
   "source": [
    "De lo anterior, se tiene que la moda es cero, y esto era bastante esperable ya que la mediana (2 cuartil) también es 0. Luego, si todos los datos de *Capital_Gain* son positivos la moda tiene que ser $0$. Posteriormente, para averiguar qué tan significativa es la moda obtendremos la tasa de variación de la muestra:"
   ]
  },
  {
   "cell_type": "code",
   "execution_count": 6,
   "metadata": {
    "collapsed": false
   },
   "outputs": [
    {
     "name": "stdout",
     "output_type": "stream",
     "text": [
      "0.0832898252511\n"
     ]
    }
   ],
   "source": [
    "moda_values = df[df['Capital_Gain'] == 0]['Capital_Gain'].count()\n",
    "fm = moda_values / df['Capital_Gain'].count()\n",
    "tasa_variacion = 1 - fm\n",
    "print (tasa_variacion)"
   ]
  },
  {
   "cell_type": "markdown",
   "metadata": {},
   "source": [
    "Como podemos observar, la tasa de variación $V$ es cercana a cero, por lo tanto, la moda es muy significativa."
   ]
  },
  {
   "cell_type": "markdown",
   "metadata": {},
   "source": [
    "Si bien, tenemos una varianza de $7385.292085$ esto no nos dice mucho acerca de qué tan concentrados los datos están en $0$. Es por ello, que obtendremos el coeficiente de apuntamiento para dar respuesta a esta pregunta:"
   ]
  },
  {
   "cell_type": "code",
   "execution_count": 7,
   "metadata": {
    "collapsed": false
   },
   "outputs": [
    {
     "data": {
      "text/plain": [
       "154.79943785425334"
      ]
     },
     "execution_count": 7,
     "metadata": {},
     "output_type": "execute_result"
    }
   ],
   "source": [
    "df['Capital_Gain'].kurtosis()"
   ]
  },
  {
   "cell_type": "markdown",
   "metadata": {},
   "source": [
    "Debido a que la curtosis $g_2 \\gg 0$ se tiene que existe una gran concentración de los datos respecto al promedio de la muestra, es decir, la mayoría de los datos están concentrados en $0$."
   ]
  },
  {
   "cell_type": "markdown",
   "metadata": {},
   "source": [
    "Finalmente, la siguiente tabla resume todo el análisis descriptivo realizado anteriormente:"
   ]
  },
  {
   "cell_type": "markdown",
   "metadata": {},
   "source": [
    "| Estadístico               | Valor           | Comentario                               |\n",
    "| ------------------------- | ---------------: | ---------------------------------------- |\n",
    "| Total de ocurrencias      | 32561           |                                          |\n",
    "| Media                     | 1077            |                                          |\n",
    "| Moda                      | 0               |                                          |\n",
    "| Tasa de variación         | 0.0832898252511 | La moda es muy significativa             |\n",
    "| Desviación Estándar       | 7385.292085     |                                          |\n",
    "| Curtosis                  | 154.7994378542  | Existe una gran cantidad de datos en la vecindad de la media. |\n",
    "| Mínimo                    | 0               |                                          |\n",
    "| Máximo                    | 99999           |                                          |\n",
    "| Primer Cuartil            | 0               |                                          |\n",
    "| Segundo Cuartil o Mediana | 0               |                                          |\n",
    "| Tercer Cuartil            | 0               |                                          |"
   ]
  },
  {
   "cell_type": "markdown",
   "metadata": {},
   "source": [
    "### 2.1.2. &nbsp;&nbsp; Education Num"
   ]
  },
  {
   "cell_type": "markdown",
   "metadata": {},
   "source": [
    "De la misma forma que lo hicimos con *Capital_Gain*, analizaremos los principales estadísticos de esta variable aleatoria:"
   ]
  },
  {
   "cell_type": "code",
   "execution_count": 8,
   "metadata": {
    "collapsed": false
   },
   "outputs": [
    {
     "data": {
      "text/plain": [
       "count    32561.000000\n",
       "mean        10.080679\n",
       "std          2.572720\n",
       "min          1.000000\n",
       "25%          9.000000\n",
       "50%         10.000000\n",
       "75%         12.000000\n",
       "max         16.000000\n",
       "Name: Education_Num, dtype: float64"
      ]
     },
     "execution_count": 8,
     "metadata": {},
     "output_type": "execute_result"
    }
   ],
   "source": [
    "df['Education_Num'].describe()"
   ]
  },
  {
   "cell_type": "markdown",
   "metadata": {},
   "source": [
    "Como podemos observar, la mayoría de los encuestados tiene un grado (al menos sobre el 50%) no alcanza a superar un nivel de educación sobre 10. Por otro lado, la desviación estándar tiene un valor de $2.572720 \\approx 2.57$, lo que nos dice que se espera que si tomamos un encuestado al azar, se espere que este tenga un *Educacion_Num* entre $7.51$ y $12.65$."
   ]
  },
  {
   "cell_type": "markdown",
   "metadata": {},
   "source": [
    "Veamos que pasa con la moda y la tasa de variación:"
   ]
  },
  {
   "cell_type": "code",
   "execution_count": 9,
   "metadata": {
    "collapsed": false
   },
   "outputs": [
    {
     "name": "stdout",
     "output_type": "stream",
     "text": [
      "Moda de Education_Num: 9\n",
      "Tasa de Variacion de: 0.677497619852\n"
     ]
    }
   ],
   "source": [
    "education_num_mode = df['Education_Num'].mode()\n",
    "print (\"Moda de Education_Num: \" + str(education_num_mode.values[0]))\n",
    "\n",
    "moda_values = df[df['Education_Num'] == education_num_mode.values[0]]['Education_Num'].count()\n",
    "fm = moda_values / df['Education_Num'].count()\n",
    "tasa_variacion = 1 - fm\n",
    "print (\"Tasa de Variacion de: \" + str(tasa_variacion))"
   ]
  },
  {
   "cell_type": "markdown",
   "metadata": {},
   "source": [
    "El código anterior arroja que la moda de *Education_Num* es $9$ y la tasa de variación es de $V=0.67$. Debido a que $V\\gg 0$ se tiene que la moda no es muy representativa, es decir, que la ocurrencia de personas con un *Education_Num* no supera con creces a otras con un *Education_Num* diferente. Esto lo podemos comprobar a través de una tabla de frecuencias:"
   ]
  },
  {
   "cell_type": "code",
   "execution_count": 10,
   "metadata": {
    "collapsed": false
   },
   "outputs": [
    {
     "data": {
      "text/plain": [
       "9     10501\n",
       "10     7291\n",
       "13     5355\n",
       "14     1723\n",
       "11     1382\n",
       "7      1175\n",
       "12     1067\n",
       "6       933\n",
       "4       646\n",
       "15      576\n",
       "5       514\n",
       "8       433\n",
       "16      413\n",
       "3       333\n",
       "2       168\n",
       "1        51\n",
       "Name: Education_Num, dtype: int64"
      ]
     },
     "execution_count": 10,
     "metadata": {},
     "output_type": "execute_result"
    }
   ],
   "source": [
    "df['Education_Num'].value_counts()"
   ]
  },
  {
   "cell_type": "markdown",
   "metadata": {},
   "source": [
    "Como podemos ver, efectivamente la moda no es muy significativa."
   ]
  },
  {
   "cell_type": "markdown",
   "metadata": {},
   "source": [
    "Lo último que nos falta es obtener la curtosis del caso:"
   ]
  },
  {
   "cell_type": "code",
   "execution_count": 11,
   "metadata": {
    "collapsed": false
   },
   "outputs": [
    {
     "data": {
      "text/plain": [
       "0.62344407476292485"
      ]
     },
     "execution_count": 11,
     "metadata": {},
     "output_type": "execute_result"
    }
   ],
   "source": [
    "df['Education_Num'].kurtosis()"
   ]
  },
  {
   "cell_type": "markdown",
   "metadata": {},
   "source": [
    "Debido a que la curtosis $g_2 > 0$, se tiene que los datos tienden a concentrarse respecto a la media, pero no en grandes cantidades como ocurrió con *Capital_Gain*."
   ]
  },
  {
   "cell_type": "markdown",
   "metadata": {},
   "source": [
    "Finalmente, resumimos el análisis descriptivo realizado con anterioridad a *Education_Num* a través de la siguiente tabla:"
   ]
  },
  {
   "cell_type": "markdown",
   "metadata": {},
   "source": [
    "| Estadístico               |    Valor | Comentario                               |\n",
    "| ------------------------- | -------: | ---------------------------------------- |\n",
    "| Total de ocurrencias      |    32561 |                                          |\n",
    "| Media                     | 10.08067 |                                          |\n",
    "| Moda                      |        9 |                                          |\n",
    "| Tasa de variación         |  0.67749 | La moda es no es muy significativa.      |\n",
    "| Desviación Estándar       |  2.57272 |                                          |\n",
    "| Curtosis                  |  0.62344 | Existe una cantidad poco considerable dentro de la media. |\n",
    "| Mínimo                    |        1 |                                          |\n",
    "| Máximo                    |       16 |                                          |\n",
    "| Primer Cuartil            |        9 |                                          |\n",
    "| Segundo Cuartil o Mediana |       10 |                                          |\n",
    "| Tercer Cuartil            |       12 |                                           |"
   ]
  },
  {
   "cell_type": "markdown",
   "metadata": {},
   "source": [
    "## 2.2. &nbsp;&nbsp;&nbsp; Visualización"
   ]
  },
  {
   "cell_type": "markdown",
   "metadata": {},
   "source": [
    "### 2.2.1. &nbsp;&nbsp; Capital Gain"
   ]
  },
  {
   "cell_type": "markdown",
   "metadata": {},
   "source": [
    "Como bien mencionamos en la sección 2.1.1, la mayoría de los datos es igual a cero, por lo que usaremos un histograma para ver de forma gráfica qué tan concentrados en 0 están estos datos:"
   ]
  },
  {
   "cell_type": "code",
   "execution_count": 12,
   "metadata": {
    "collapsed": false
   },
   "outputs": [
    {
     "data": {
      "image/png": "[encoded data removed]",
      "text/plain": [
       "<matplotlib.figure.Figure at 0x10dcbd048>"
      ]
     },
     "metadata": {},
     "output_type": "display_data"
    }
   ],
   "source": [
    "plt.figure(figsize=(12, 6))\n",
    "plt.hist(df['Capital_Gain'], bins=np.linspace(0, 100000, 200))\n",
    "plt.show()"
   ]
  },
  {
   "cell_type": "markdown",
   "metadata": {},
   "source": [
    "El histograma anterior muestra claramente casi todos los datos de la muestra tienen *Capital_Gain* igual a cero. Esto comprueba alguna de las cosas que mencionamos en la sección 2.1.1:\n",
    "\n",
    "* La moda es muy significativa, reflejado por la tasa de variación.\n",
    "* Existe una enorme concentración de datos en la vecindad de la media aritmética, hipótesis obtenida a través de la curtosis."
   ]
  },
  {
   "cell_type": "markdown",
   "metadata": {},
   "source": [
    "Para averiguar las porciones en las que están distribuidos los datos, usaremos un piechart. Debido al dominio de la variable *Capital_Gain*, lo haremos por los segmentos:\n",
    "\n",
    "* $x = 0$\n",
    "* $x \\in \\left]0, 5000\\right]$\n",
    "* $x \\in \\left]5000, 10000\\right]$\n",
    "* $x \\in \\left]10000, 20000\\right]$\n",
    "* $x \\in \\left]20000, 50000\\right]$\n",
    "* $x \\in \\left]50000, 10000\\right]$"
   ]
  },
  {
   "cell_type": "code",
   "execution_count": 13,
   "metadata": {
    "collapsed": false,
    "slideshow": {
     "slide_type": "-"
    }
   },
   "outputs": [
    {
     "data": {
      "image/png": "[encoded data removed]",
      "text/plain": [
       "<matplotlib.figure.Figure at 0x10e79a828>"
      ]
     },
     "metadata": {},
     "output_type": "display_data"
    }
   ],
   "source": [
    "labels = ('$x = 0$', '$x \\in ]0, 5000]$', '$x \\in ]5000, 10000]$', '$x \\in ]10000, 20000]$', \n",
    "          '$x \\in ]20000, 50000]$', '$x \\in ]50000, 10000]$')\n",
    "sizes = [\n",
    "    df[df['Capital_Gain'] == 0]['Capital_Gain'].count(),\n",
    "    df[(df['Capital_Gain'] > 0) & (df['Capital_Gain'] <= 5000)]['Capital_Gain'].count(),\n",
    "    df[(df['Capital_Gain'] > 5000) & (df['Capital_Gain'] <= 10000)]['Capital_Gain'].count(),\n",
    "    df[(df['Capital_Gain'] > 10000) & (df['Capital_Gain'] <= 20000)]['Capital_Gain'].count(),\n",
    "    df[(df['Capital_Gain'] > 20000) & (df['Capital_Gain'] <= 50000)]['Capital_Gain'].count(),\n",
    "    df[(df['Capital_Gain'] > 50000) & (df['Capital_Gain'] <= 100000)]['Capital_Gain'].count()\n",
    "]\n",
    "\n",
    "plt.figure(figsize=(12, 8))\n",
    "plt.pie(sizes, labels=labels, autopct='%1.1f%%', shadow=True)\n",
    "plt.axis('equal')\n",
    "plt.show()"
   ]
  },
  {
   "cell_type": "markdown",
   "metadata": {},
   "source": [
    "Del gráfico anterior, se ve claramente que existen muchos valores nulos de *Capital_Gain* en la muestra; para ser concretos, el 91.7% corresponden a 0."
   ]
  },
  {
   "cell_type": "markdown",
   "metadata": {},
   "source": [
    "Por último, graficaremos un boxplot para visualizar la variación de nuestra variable de interés:"
   ]
  },
  {
   "cell_type": "code",
   "execution_count": 14,
   "metadata": {
    "collapsed": false
   },
   "outputs": [
    {
     "data": {
      "image/png": "[encoded data removed]",
      "text/plain": [
       "<matplotlib.figure.Figure at 0x10f5e7da0>"
      ]
     },
     "metadata": {},
     "output_type": "display_data"
    }
   ],
   "source": [
    "plt.figure(figsize=(12, 8))\n",
    "plt.boxplot(df['Capital_Gain'])\n",
    "plt.show()"
   ]
  },
  {
   "cell_type": "markdown",
   "metadata": {},
   "source": [
    "Si bien, no es bien apreciable a simple vista se tiene que el ancho de la caja del boxplot tiene valor nulo. Esto ocurre por el simple hecho de que el primer y tercer cuartil tienen el mismo valor: cero; es por esto que el ancho de la caja también tiene valor nulo. Por otro lado, como el dominio de las variables es mucho más grande que el dominio de valores que abarca la caja del boxplot, no es posible apreciar el bigote superior."
   ]
  },
  {
   "cell_type": "markdown",
   "metadata": {},
   "source": [
    "### 2.2.2. &nbsp;&nbsp; Education Num"
   ]
  },
  {
   "cell_type": "markdown",
   "metadata": {},
   "source": [
    "De la misma forma que lo hicimos con la variable *Capital_Gain*, realizaremos un histograma de nuestra variable de interés para ver cómo se distribuyen los datos:"
   ]
  },
  {
   "cell_type": "code",
   "execution_count": 15,
   "metadata": {
    "collapsed": false
   },
   "outputs": [
    {
     "data": {
      "image/png": "[encoded data removed]",
      "text/plain": [
       "<matplotlib.figure.Figure at 0x10df31b38>"
      ]
     },
     "metadata": {},
     "output_type": "display_data"
    }
   ],
   "source": [
    "plt.figure(figsize=(12, 6))\n",
    "plt.hist(df['Education_Num'], bins=np.arange(0, 17))\n",
    "plt.show()"
   ]
  },
  {
   "cell_type": "markdown",
   "metadata": {},
   "source": [
    "El histograma anterior muestra que efectivamente el dato que más se repite, es decir, la moda es de $9$. Por otro lado, también se observa que esta no es muy significativa ya que existen otros valores que se repiten en grandes cantidades como lo son el $10$ y el $13$. Esto explica el por qué la tasa de variación es de $0.67749$."
   ]
  },
  {
   "cell_type": "markdown",
   "metadata": {},
   "source": [
    "Posteriormente, graficaremos un pie chart para averiguar las proporciones de cada dato respecto al total:"
   ]
  },
  {
   "cell_type": "code",
   "execution_count": 16,
   "metadata": {
    "collapsed": false
   },
   "outputs": [
    {
     "data": {
      "image/png": "[encoded data removed]",
      "text/plain": [
       "<matplotlib.figure.Figure at 0x10edaf0b8>"
      ]
     },
     "metadata": {},
     "output_type": "display_data"
    }
   ],
   "source": [
    "labels = df['Education_Num'].value_counts().index.tolist()\n",
    "\n",
    "plt.figure(figsize=(12, 8))\n",
    "#plt.pie(sizes, labels=labels, autopct='%1.1f%%', shadow=True)\n",
    "plt.pie(df['Education_Num'].value_counts(), labels=labels, autopct='%1.1f%%', shadow=True)\n",
    "plt.axis('equal')\n",
    "plt.show()"
   ]
  },
  {
   "cell_type": "markdown",
   "metadata": {},
   "source": [
    "El pie chart muestra que la moda ocupa un total del $32.3%$ de los datos, pero que además existe una gran ocurrencia entre aquellas personas que tienen un *Education_Num* de $10$ y $13$, tal cual como se vio en el histograma. Por otro lado, sólo una infima parte de la muestra tiene el máximo *Education_Num*: 16; ocupando un $1.3%$ de la muestra."
   ]
  },
  {
   "cell_type": "markdown",
   "metadata": {},
   "source": [
    "Por último, graficaremos un boxplot para visualizar la variación de nuestra variable de interés:"
   ]
  },
  {
   "cell_type": "code",
   "execution_count": 31,
   "metadata": {
    "collapsed": false
   },
   "outputs": [
    {
     "data": {
      "image/png": "[encoded data removed]",
      "text/plain": [
       "<matplotlib.figure.Figure at 0x10fe17f60>"
      ]
     },
     "metadata": {},
     "output_type": "display_data"
    }
   ],
   "source": [
    "plt.figure(figsize=(12, 8))\n",
    "plt.boxplot(df['Education_Num'])\n",
    "plt.show()"
   ]
  },
  {
   "cell_type": "markdown",
   "metadata": {},
   "source": [
    "Finalmente, el boxplot anterior muestra que al menos el $50\\%$ de los encuestados tiene un *Education_Num* ubicado entre $9$ y $12$, cuya media es $10$. Si bien, el máximo *Education_Num* es de $16$, la gráfica no muestra que este sea un dato atípico; sin embargo, si lo son aquellos que tienen un *Education_Num* inferior a $5$. Los 3 gráficos realizados para *Education_Num* muestran que si hay presencia de individuos que tienen un *Education_Num* inferior a $5$, arrojando la presencia de outliers."
   ]
  },
  {
   "cell_type": "markdown",
   "metadata": {},
   "source": [
    "## 2.3. &nbsp;&nbsp;&nbsp; Separación por Target"
   ]
  },
  {
   "cell_type": "markdown",
   "metadata": {},
   "source": [
    "A continuación realizaremos el mismo estudio que hicimos previamente, pero esta vez separaremos la data por target, es decir:\n",
    "\n",
    "* Aquellos que ganan sobre 50K ($>50K$)\n",
    "* Aquellos que ganan a lo más 50K ($\\leq50K$)\n",
    "\n",
    "Por lo anterior, separamos nuestro dataframe por target:"
   ]
  },
  {
   "cell_type": "code",
   "execution_count": 46,
   "metadata": {
    "collapsed": false
   },
   "outputs": [],
   "source": [
    "lower_than_50K_df = df[df['Result'] == ' <=50K']\n",
    "upper_than_50K_df = df[df['Result'] == ' >50K']"
   ]
  },
  {
   "cell_type": "markdown",
   "metadata": {},
   "source": [
    "Ahora que tenemos el dataframe separado por target, procedemos a repetir el proceso de las secciones 2.1 y 2.2."
   ]
  },
  {
   "cell_type": "markdown",
   "metadata": {},
   "source": [
    "### 2.3.1. &nbsp;&nbsp; Estudio de Estadística Descriptiva a dos variables"
   ]
  },
  {
   "cell_type": "markdown",
   "metadata": {},
   "source": [
    "Con el objetivo de realizar un estudio comparativo con los resultados obtenidos previamente, nuestras variables de interés serán *Capital_Gain* y *Education_Num*."
   ]
  },
  {
   "cell_type": "markdown",
   "metadata": {},
   "source": [
    "#### 2.3.1.1. &nbsp; Capital Gain"
   ]
  },
  {
   "cell_type": "markdown",
   "metadata": {},
   "source": [
    "Analizaremos los principales estadísticos de la variable de interés para ambos target:"
   ]
  },
  {
   "cell_type": "code",
   "execution_count": 61,
   "metadata": {
    "collapsed": false
   },
   "outputs": [
    {
     "name": "stdout",
     "output_type": "stream",
     "text": [
      "Caso <=50K\n"
     ]
    },
    {
     "data": {
      "text/plain": [
       "count    24720.000000\n",
       "mean       148.752468\n",
       "std        963.139307\n",
       "min          0.000000\n",
       "25%          0.000000\n",
       "50%          0.000000\n",
       "75%          0.000000\n",
       "max      41310.000000\n",
       "Name: Capital_Gain, dtype: float64"
      ]
     },
     "execution_count": 61,
     "metadata": {},
     "output_type": "execute_result"
    }
   ],
   "source": [
    "print (\"Caso <=50K\")\n",
    "lower_than_50K_df['Capital_Gain'].describe()"
   ]
  },
  {
   "cell_type": "code",
   "execution_count": 62,
   "metadata": {
    "collapsed": false
   },
   "outputs": [
    {
     "name": "stdout",
     "output_type": "stream",
     "text": [
      "Caso >50K\n"
     ]
    },
    {
     "data": {
      "text/plain": [
       "count     7841.000000\n",
       "mean      4006.142456\n",
       "std      14570.378951\n",
       "min          0.000000\n",
       "25%          0.000000\n",
       "50%          0.000000\n",
       "75%          0.000000\n",
       "max      99999.000000\n",
       "Name: Capital_Gain, dtype: float64"
      ]
     },
     "execution_count": 62,
     "metadata": {},
     "output_type": "execute_result"
    }
   ],
   "source": [
    "print (\"Caso >50K\")\n",
    "upper_than_50K_df['Capital_Gain'].describe()"
   ]
  },
  {
   "cell_type": "markdown",
   "metadata": {},
   "source": [
    "De acuerdo a lo anterior, vemos que existe una mayor ocurrencia de aquellas personas que ganan menos de $50K$. Por otro lado, la media aritmética aumenta en el caso de las personas que ganan por sobre $50K$. Como en ambas muestras los tres primeros cuartiles son igual a cero, se infiere que en el segundo caso ($>50K$) existe una proporción bastante menor en generar algo de *Capital_Gain*."
   ]
  },
  {
   "cell_type": "markdown",
   "metadata": {},
   "source": [
    "A continuación, pasaremos a analizar la moda y la tasa de variación:"
   ]
  },
  {
   "cell_type": "code",
   "execution_count": 74,
   "metadata": {
    "collapsed": false
   },
   "outputs": [
    {
     "name": "stdout",
     "output_type": "stream",
     "text": [
      "Caso <=50K\n",
      "Moda Capital_Gain: 0\n",
      "Tasa de Variacion: 0.0418689320388\n",
      "\n",
      "Caso >50K\n",
      "Moda Capital_Gain: 0\n",
      "Tasa de Variacion: 0.21387578115\n"
     ]
    }
   ],
   "source": [
    "print (\"Caso <=50K\")\n",
    "capital_gain_mode = lower_than_50K_df['Capital_Gain'].mode()\n",
    "print (\"Moda Capital_Gain: \" + str(capital_gain_mode.values[0]))\n",
    "\n",
    "moda_values = lower_than_50K_df[\n",
    "    lower_than_50K_df['Capital_Gain'] == capital_gain_mode.values[0]]['Capital_Gain'].count()\n",
    "fm = moda_values / lower_than_50K_df['Capital_Gain'].count()\n",
    "tasa_variacion = 1 - fm\n",
    "print (\"Tasa de Variacion: \" + str(tasa_variacion))\n",
    "\n",
    "print (\"\\nCaso >50K\")\n",
    "capital_gain_mode = upper_than_50K_df['Capital_Gain'].mode()\n",
    "print (\"Moda Capital_Gain: \" + str(capital_gain_mode.values[0]))\n",
    "\n",
    "moda_values = upper_than_50K_df[\n",
    "    upper_than_50K_df['Capital_Gain'] == capital_gain_mode.values[0]]['Capital_Gain'].count()\n",
    "fm = moda_values / upper_than_50K_df['Capital_Gain'].count()\n",
    "tasa_variacion = 1 - fm\n",
    "print (\"Tasa de Variacion: \" + str(tasa_variacion))"
   ]
  },
  {
   "cell_type": "markdown",
   "metadata": {},
   "source": [
    "Los resultados anteriores evidencian que el dato que más se repite para ambos casos es $0$. Sin embargo, para el segundo caso se evidencia que, a través de la tasa de variación, que la moda es menos significativa dando a conocer que el dato $0$ no es tan repetitivo como en el primer caso."
   ]
  },
  {
   "cell_type": "markdown",
   "metadata": {},
   "source": [
    "Por último, vemos qué tan concentrados están los datos respecto a la media a través de la curtosis:"
   ]
  },
  {
   "cell_type": "code",
   "execution_count": 79,
   "metadata": {
    "collapsed": false
   },
   "outputs": [
    {
     "name": "stdout",
     "output_type": "stream",
     "text": [
      "Caso <=50K: 605.314584698\n",
      "Caso  >50K:  35.3056737929\n"
     ]
    }
   ],
   "source": [
    "kurtosis_lt50K = lower_than_50K_df['Capital_Gain'].kurtosis()\n",
    "kurtosis_ut50K = upper_than_50K_df['Capital_Gain'].kurtosis()\n",
    "print (\"Caso <=50K: \" + str(kurtosis_lt50K))\n",
    "print (\"Caso  >50K:  \" + str(kurtosis_ut50K))"
   ]
  },
  {
   "cell_type": "markdown",
   "metadata": {},
   "source": [
    "Si bien, para ambos casos existe una gran concentración de los datos entorno a la media aritmética 0, para el caso $\\leq 50K$ se tiene que esta concentración es mucho mayor que en el caso $> 50K$."
   ]
  },
  {
   "cell_type": "markdown",
   "metadata": {},
   "source": [
    "Finalmente, realizamos el cuadro resumen que compara los resultados obtenidos a través de este análisis descriptivo:"
   ]
  },
  {
   "cell_type": "markdown",
   "metadata": {},
   "source": [
    "| Estadístico               | Valor Caso $\\leq 50K$ | Valor Caso $>50K$ | Comentario                               |\n",
    "| ------------------------- | --------------------: | ----------------: | ---------------------------------------- |\n",
    "| Total de ocurrencias      |                 24720 |              7841 |                                          |\n",
    "| Media                     |              148.7524 |         4006.1424 | Da la posibilidad de que hay más datos no nulos en el caso $>50K$ por sobre $\\leq 50K$. |\n",
    "| Moda                      |                     0 |                 0 |                                          |\n",
    "| Tasa de variación         |                0.0418 |            0.2138 | En el caso $\\leq 50K$ la moda es más significativa respecto al otro caso. Esto indica que la frecuencia relativa de la moda en el primer caso es mucho mayor que en el segundo. |\n",
    "| Desviación Estándar       |              963.1393 |        14570.3789 |                                          |\n",
    "| Curtosis                  |              605.3145 |           35.3056 | Para el caso $\\leq 50K$ existe una mayor concentración de datos en la vecindad de la media. Como en ambos casos la media es cero, se tiene que en $\\leq 50K$ hay muchos más datos concentrados en la vecindad del valor 0. |\n",
    "| Mínimo                    |                     0 |                 0 |                                          |\n",
    "| Máximo                    |                 41310 |             99999 | Aquellos que ganan por sobre $50K$ aspiran a tener un mayor *Capital_Gain*. |\n",
    "| Primer Cuartil            |                     0 |                 0 |                                          |\n",
    "| Segundo Cuartil o Mediana |                     0 |                 0 |                                          |\n",
    "| Tercer Cuartil            |                     0 |                 0 |                                          |"
   ]
  },
  {
   "cell_type": "markdown",
   "metadata": {},
   "source": [
    "#### 2.3.1.2. &nbsp; Education Num"
   ]
  },
  {
   "cell_type": "markdown",
   "metadata": {},
   "source": [
    "Analizaremos los principales estadísticos de nuestra variable de interés separados por target:"
   ]
  },
  {
   "cell_type": "code",
   "execution_count": 80,
   "metadata": {
    "collapsed": false
   },
   "outputs": [
    {
     "name": "stdout",
     "output_type": "stream",
     "text": [
      "Caso <=50K\n"
     ]
    },
    {
     "data": {
      "text/plain": [
       "count    24720.000000\n",
       "mean         9.595065\n",
       "std          2.436147\n",
       "min          1.000000\n",
       "25%          9.000000\n",
       "50%          9.000000\n",
       "75%         10.000000\n",
       "max         16.000000\n",
       "Name: Education_Num, dtype: float64"
      ]
     },
     "execution_count": 80,
     "metadata": {},
     "output_type": "execute_result"
    }
   ],
   "source": [
    "print (\"Caso <=50K\")\n",
    "lower_than_50K_df['Education_Num'].describe()"
   ]
  },
  {
   "cell_type": "code",
   "execution_count": 82,
   "metadata": {
    "collapsed": false
   },
   "outputs": [
    {
     "name": "stdout",
     "output_type": "stream",
     "text": [
      "Caso >50K\n"
     ]
    },
    {
     "data": {
      "text/plain": [
       "count    7841.000000\n",
       "mean       11.611657\n",
       "std         2.385129\n",
       "min         2.000000\n",
       "25%        10.000000\n",
       "50%        12.000000\n",
       "75%        13.000000\n",
       "max        16.000000\n",
       "Name: Education_Num, dtype: float64"
      ]
     },
     "execution_count": 82,
     "metadata": {},
     "output_type": "execute_result"
    }
   ],
   "source": [
    "print (\"Caso >50K\")\n",
    "upper_than_50K_df['Education_Num'].describe()"
   ]
  },
  {
   "cell_type": "markdown",
   "metadata": {},
   "source": [
    "La descripción anterior arroja datos bastante interesantes. Como podemos observar, la media "
   ]
  },
  {
   "cell_type": "markdown",
   "metadata": {},
   "source": [
    "<h1 style=\"color: red\"> OLD </h1>"
   ]
  },
  {
   "cell_type": "markdown",
   "metadata": {},
   "source": [
    "Primero realizaremos un gráfico de dispersión de datos con sus respectivos histogramas marginales:"
   ]
  },
  {
   "cell_type": "code",
   "execution_count": 18,
   "metadata": {
    "collapsed": false
   },
   "outputs": [
    {
     "data": {
      "text/plain": [
       "<seaborn.axisgrid.JointGrid at 0x10e634c88>"
      ]
     },
     "execution_count": 18,
     "metadata": {},
     "output_type": "execute_result"
    },
    {
     "data": {
      "image/png": "[encoded data removed]",
      "text/plain": [
       "<matplotlib.figure.Figure at 0x10e634c18>"
      ]
     },
     "metadata": {},
     "output_type": "display_data"
    }
   ],
   "source": [
    "sns.jointplot(x=\"Education_Num\", y=\"Capital_Gain\", data=df)"
   ]
  },
  {
   "cell_type": "markdown",
   "metadata": {},
   "source": [
    "Notamos que la variable *Capital Gain* posee una gran cantidad de ceros mientras que la variable *Education_Num* está mucho más distribuida. "
   ]
  },
  {
   "cell_type": "markdown",
   "metadata": {},
   "source": [
    "A continuación analizaremos ambas variables por separado para luego analizarlas de manera cojunta:"
   ]
  },
  {
   "cell_type": "markdown",
   "metadata": {},
   "source": [
    "### Capital Gain"
   ]
  },
  {
   "cell_type": "markdown",
   "metadata": {},
   "source": [
    "Comenzamos analizando los principales estadísticos de la variable:"
   ]
  },
  {
   "cell_type": "code",
   "execution_count": 19,
   "metadata": {
    "collapsed": false
   },
   "outputs": [
    {
     "data": {
      "text/plain": [
       "count    32561.000000\n",
       "mean      1077.648844\n",
       "std       7385.292085\n",
       "min          0.000000\n",
       "25%          0.000000\n",
       "50%          0.000000\n",
       "75%          0.000000\n",
       "max      99999.000000\n",
       "Name: Capital_Gain, dtype: float64"
      ]
     },
     "execution_count": 19,
     "metadata": {},
     "output_type": "execute_result"
    }
   ],
   "source": [
    "df[\"Capital_Gain\"].describe()"
   ]
  },
  {
   "cell_type": "markdown",
   "metadata": {},
   "source": [
    "Analizando la información anterior notamos que al menos el 75% de los datos es cero. Surge la duda de cuantos datos no son ceros pregunta que resolvemos a continuación:"
   ]
  },
  {
   "cell_type": "code",
   "execution_count": 20,
   "metadata": {
    "collapsed": false
   },
   "outputs": [
    {
     "name": "stdout",
     "output_type": "stream",
     "text": [
      "2712\n",
      "8.328982525106724\n"
     ]
    }
   ],
   "source": [
    "df_capital_gain_not_zero = df[df[\"Capital_Gain\"] > 0.0]\n",
    "print (df_capital_gain_not_zero.shape[0])\n",
    "print((df_capital_gain_not_zero.shape[0]/df.shape[0])*100)"
   ]
  },
  {
   "cell_type": "markdown",
   "metadata": {},
   "source": [
    "El dato anterior nos dice que 2712 encuestados poseen ganancias de capital osea tan sólo el 8% de la muestra. "
   ]
  },
  {
   "cell_type": "markdown",
   "metadata": {},
   "source": [
    "Sabemos que el 92% de los encuestados no posee ganancias de capital externos a su sueldo. Sin embargo podemos analizar al 8% restante. Lo primero que haremos será calcular su KDE:"
   ]
  },
  {
   "cell_type": "code",
   "execution_count": 21,
   "metadata": {
    "collapsed": false
   },
   "outputs": [
    {
     "name": "stderr",
     "output_type": "stream",
     "text": [
      "/anaconda/lib/python3.6/site-packages/statsmodels/nonparametric/kdetools.py:20: VisibleDeprecationWarning: using a non-integer number instead of an integer will result in an error in the future\n",
      "  y = X[:m/2+1] + np.r_[0,X[m/2+1:],0]*1j\n"
     ]
    },
    {
     "data": {
      "text/plain": [
       "<matplotlib.axes._subplots.AxesSubplot at 0x10e7229b0>"
      ]
     },
     "execution_count": 21,
     "metadata": {},
     "output_type": "execute_result"
    },
    {
     "data": {
      "image/png": "[encoded data removed]",
      "text/plain": [
       "<matplotlib.figure.Figure at 0x10deeaa90>"
      ]
     },
     "metadata": {},
     "output_type": "display_data"
    }
   ],
   "source": [
    "sns.kdeplot(df_capital_gain_not_zero[\"Capital_Gain\"])\n"
   ]
  },
  {
   "cell_type": "markdown",
   "metadata": {},
   "source": [
    "Por otro lado podemos analizar la distribución del capital ganado según: "
   ]
  },
  {
   "cell_type": "markdown",
   "metadata": {},
   "source": [
    "#### Ocupación"
   ]
  },
  {
   "cell_type": "code",
   "execution_count": 22,
   "metadata": {
    "collapsed": false
   },
   "outputs": [
    {
     "data": {
      "image/png": "[encoded data removed]",
      "text/plain": [
       "<matplotlib.figure.Figure at 0x10d533a58>"
      ]
     },
     "metadata": {},
     "output_type": "display_data"
    }
   ],
   "source": [
    "sns.set(style=\"ticks\", palette=\"muted\", color_codes=True)\n",
    "ax = sns.boxplot(x=\"Capital_Gain\", y=\"Occupation\", data=df_capital_gain_not_zero, whis=np.inf, color=\"c\")"
   ]
  },
  {
   "cell_type": "markdown",
   "metadata": {},
   "source": [
    "#### Workclass"
   ]
  },
  {
   "cell_type": "code",
   "execution_count": 23,
   "metadata": {
    "collapsed": false
   },
   "outputs": [
    {
     "data": {
      "image/png": "[encoded data removed]",
      "text/plain": [
       "<matplotlib.figure.Figure at 0x10e51bd30>"
      ]
     },
     "metadata": {},
     "output_type": "display_data"
    }
   ],
   "source": [
    "sns.set(style=\"ticks\", palette=\"muted\", color_codes=True)\n",
    "ax = sns.boxplot(x=\"Capital_Gain\", y=\"Workclass\", data=df_capital_gain_not_zero, whis=np.inf, color=\"c\")"
   ]
  },
  {
   "cell_type": "markdown",
   "metadata": {},
   "source": [
    "#### Education"
   ]
  },
  {
   "cell_type": "code",
   "execution_count": 24,
   "metadata": {
    "collapsed": false
   },
   "outputs": [
    {
     "data": {
      "image/png": "[encoded data removed]",
      "text/plain": [
       "<matplotlib.figure.Figure at 0x10ed9b0f0>"
      ]
     },
     "metadata": {},
     "output_type": "display_data"
    }
   ],
   "source": [
    "sns.set(style=\"ticks\", palette=\"muted\", color_codes=True)\n",
    "ax = sns.boxplot(x=\"Capital_Gain\", y=\"Education\", data=df_capital_gain_not_zero, whis=np.inf, color=\"c\")"
   ]
  },
  {
   "cell_type": "markdown",
   "metadata": {},
   "source": [
    "De los gráficos anteriores se pueden desprender los grupos por categorías que poseen ganancias de capital. Además notamos que la varianza de los datos seleccionados(datos distintos a cero) es gigante con respecto a los datos tolerados por cada uno de los boxplot. Esto se debe a la presencia de outliers dentro de la submuestra. A continuación se calcula la varianza de los datos contando los ceros y sin contarlos:"
   ]
  },
  {
   "cell_type": "code",
   "execution_count": 25,
   "metadata": {
    "collapsed": false
   },
   "outputs": [
    {
     "data": {
      "text/plain": [
       "501554547.1757241"
      ]
     },
     "execution_count": 25,
     "metadata": {},
     "output_type": "execute_result"
    }
   ],
   "source": [
    "df_capital_gain_not_zero[\"Capital_Gain\"].var()"
   ]
  },
  {
   "cell_type": "code",
   "execution_count": 26,
   "metadata": {
    "collapsed": false
   },
   "outputs": [
    {
     "data": {
      "text/plain": [
       "54542539.17839"
      ]
     },
     "execution_count": 26,
     "metadata": {},
     "output_type": "execute_result"
    }
   ],
   "source": [
    "df[\"Capital_Gain\"].var()"
   ]
  },
  {
   "cell_type": "markdown",
   "metadata": {},
   "source": [
    "Claramente la varianza de los datos con ceros es menor debido a que casi el 92% de la muestra es cero."
   ]
  },
  {
   "cell_type": "markdown",
   "metadata": {},
   "source": [
    "### Education Num"
   ]
  },
  {
   "cell_type": "code",
   "execution_count": null,
   "metadata": {
    "collapsed": true
   },
   "outputs": [],
   "source": []
  }
 ],
 "metadata": {
  "kernelspec": {
   "display_name": "Python 3",
   "language": "python",
   "name": "python3"
  },
  "language_info": {
   "codemirror_mode": {
    "name": "ipython",
    "version": 3
   },
   "file_extension": ".py",
   "mimetype": "text/x-python",
   "name": "python",
   "nbconvert_exporter": "python",
   "pygments_lexer": "ipython3",
   "version": "3.6.0"
  }
 },
 "nbformat": 4,
 "nbformat_minor": 2
}
