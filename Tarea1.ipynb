{
 "cells": [
  {
   "cell_type": "markdown",
   "metadata": {},
   "source": [
    "<center>\n",
    "    <h1> INF390 - Análisis Inteligente de Datos </h1>\n",
    "    <h1> Tarea 1 - Visualización y Análisis Descriptivo de Datos con Python </h1>\n",
    "    <h3>\n",
    "        <table style=\"border: 0px;\">\n",
    "            <tr style=\"border: 0px;\">\n",
    "                <td style=\"text-align: center; border: 0px;\"> Aldo Berrios Valenzuela </td>\n",
    "                <td style=\"text-align: center; border: 0px; padding-right: 110px;\"> </td>\n",
    "                <td style=\"text-align: center; border: 0px;\"> Lukas Zamora Jabre </td>\n",
    "            </tr>\n",
    "            <tr style=\"border: 0px;\">\n",
    "                <td style=\"text-align: center; border: 0px;\"> 201304018-7 </td>\n",
    "                <td style=\"text-align: center; border: 0px; padding-right: 110px;\"> </td>\n",
    "                <td style=\"text-align: center; border: 0px;\"> 201430047-6 </td>\n",
    "            </tr>\n",
    "            <tr style=\"border: 0px;\">\n",
    "                <td style=\"text-align: center; font-size: 14px; border: 0px;\"> `aldo.berrios.13@sansano.usm.cl` </td>\n",
    "                <td style=\"text-align: center; border: 0px; padding-right: 110px;\"> </td>\n",
    "                <td style=\"text-align: center; font-size: 14px; border: 0px;\"> `lukas.zamora.14@sansano.usm.cl` </td>\n",
    "            </tr>\n",
    "        </table>\n",
    "    </h3> \n",
    "    <h4> Valparaíso, Viernes 29 de Octubre de 2017 </h4>\n",
    "</center>"
   ]
  },
  {
   "cell_type": "markdown",
   "metadata": {
    "collapsed": true
   },
   "source": [
    "# 1. &nbsp;&nbsp;&nbsp;&nbsp; Preliminares"
   ]
  },
  {
   "cell_type": "markdown",
   "metadata": {},
   "source": [
    "Para el desarrollo de esta tarea usaremos el dataset que se encuentra en https://archive.ics.uci.edu/ml/datasets/Census+Income. Luego, importamos las librerías que usaremos durante el desarrollo de la tarea:"
   ]
  },
  {
   "cell_type": "code",
   "execution_count": 50,
   "metadata": {
    "collapsed": true
   },
   "outputs": [],
   "source": [
    "import numpy as np\n",
    "import pandas as pd\n",
    "import scipy.stats as ss\n",
    "import matplotlib.pyplot as plt\n",
    "import seaborn as sns\n",
    "from sklearn.decomposition import PCA"
   ]
  },
  {
   "cell_type": "markdown",
   "metadata": {},
   "source": [
    "A continuación, cargamos el dataset con pandas:"
   ]
  },
  {
   "cell_type": "code",
   "execution_count": 59,
   "metadata": {
    "collapsed": false,
    "scrolled": false
   },
   "outputs": [],
   "source": [
    "df = pd.DataFrame.from_csv('census_income_dataset.csv')\n",
    "df = df.reset_index()"
   ]
  },
  {
   "cell_type": "markdown",
   "metadata": {},
   "source": [
    "# 2. &nbsp;&nbsp;&nbsp;&nbsp; Desarrollo de Preguntas"
   ]
  },
  {
   "cell_type": "markdown",
   "metadata": {},
   "source": [
    "## 2.1. &nbsp;&nbsp;&nbsp; Estudio de Estadística Descriptiva a 2 variables"
   ]
  },
  {
   "cell_type": "markdown",
   "metadata": {},
   "source": [
    "El estudio de estadística descriptiva sólo podemos hacerlo para las variables cuantitativas del caso. Es por esto, que aquellas que sean del tipo categóricas las removemos de dataframe:"
   ]
  },
  {
   "cell_type": "code",
   "execution_count": 69,
   "metadata": {
    "collapsed": false,
    "scrolled": false
   },
   "outputs": [],
   "source": [
    "df_quantitative = df.select_dtypes(exclude=['object'])"
   ]
  },
  {
   "cell_type": "code",
   "execution_count": null,
   "metadata": {
    "collapsed": true
   },
   "outputs": [],
   "source": []
  }
 ],
 "metadata": {
  "kernelspec": {
   "display_name": "Python 3",
   "language": "python",
   "name": "python3"
  },
  "language_info": {
   "codemirror_mode": {
    "name": "ipython",
    "version": 3
   },
   "file_extension": ".py",
   "mimetype": "text/x-python",
   "name": "python",
   "nbconvert_exporter": "python",
   "pygments_lexer": "ipython3",
   "version": "3.6.0"
  }
 },
 "nbformat": 4,
 "nbformat_minor": 2
}
